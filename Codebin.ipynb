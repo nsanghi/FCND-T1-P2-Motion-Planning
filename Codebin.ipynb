{
 "cells": [
  {
   "cell_type": "code",
   "execution_count": 1,
   "metadata": {},
   "outputs": [],
   "source": [
    "import numpy as np"
   ]
  },
  {
   "cell_type": "code",
   "execution_count": 41,
   "metadata": {},
   "outputs": [
    {
     "name": "stdout",
     "output_type": "stream",
     "text": [
      "37.79248 -122.39745\n"
     ]
    }
   ],
   "source": [
    "with open('colliders.csv') as f:\n",
    "    line = np.array(f.readline().replace(',', ' ').split())\n",
    "    line = line[[1,3]]\n",
    "    lat0, lon0 = np.asarray(line, dtype=np.float64)\n",
    "    \n",
    "print(lat0, lon0)\n",
    "\n"
   ]
  },
  {
   "cell_type": "code",
   "execution_count": 53,
   "metadata": {},
   "outputs": [
    {
     "name": "stdout",
     "output_type": "stream",
     "text": [
      "[[0 0 1 0 0]\n",
      " [0 0 0 0 1]\n",
      " [0 0 1 1 1]\n",
      " [0 0 1 1 1]\n",
      " [0 1 0 0 0]]\n",
      "[1 0 1 0 0 0 1]\n"
     ]
    },
    {
     "data": {
      "text/plain": [
       "3"
      ]
     },
     "execution_count": 53,
     "metadata": {},
     "output_type": "execute_result"
    }
   ],
   "source": [
    "cells = [(1, 4), (0, 3), (0, 2), (1, 1), (2, 0), (2, 1), (3, 2)]\n",
    "grid = np.random.randint(0,2,(5,5))\n",
    "\n",
    "cells = np.transpose(cells)\n",
    "print(grid)\n",
    "print(grid[cells[0], cells[1]])\n",
    "np.sum(grid[cells[0], cells[1]])"
   ]
  }
 ],
 "metadata": {
  "kernelspec": {
   "display_name": "Python 3",
   "language": "python",
   "name": "python3"
  },
  "language_info": {
   "codemirror_mode": {
    "name": "ipython",
    "version": 3
   },
   "file_extension": ".py",
   "mimetype": "text/x-python",
   "name": "python",
   "nbconvert_exporter": "python",
   "pygments_lexer": "ipython3",
   "version": "3.6.3"
  }
 },
 "nbformat": 4,
 "nbformat_minor": 2
}
